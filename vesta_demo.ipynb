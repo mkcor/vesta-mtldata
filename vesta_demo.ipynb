{
 "cells": [
  {
   "cell_type": "markdown",
   "metadata": {},
   "source": [
    "![CRIM Logo](logo_CRIM_300dpi.jpg)"
   ]
  },
  {
   "cell_type": "markdown",
   "metadata": {},
   "source": [
    "# VESTA (Video Evaluation System for Task Analysis)\n",
    "\n",
    "## A collaborative platform for video annotation and analysis"
   ]
  },
  {
   "cell_type": "markdown",
   "metadata": {},
   "source": [
    "### Context\n",
    "\n",
    "* Education Research\n",
    "* Developed with LEADS to automate video analysis\n",
    "* More at http://www.canarie.ca/software/platforms/vesta/"
   ]
  },
  {
   "cell_type": "markdown",
   "metadata": {},
   "source": [
    "### Services\n",
    "\n",
    "* Transition detection\n",
    "* Face detection\n",
    "* Speech transcription\n",
    "* Speech to text matching\n",
    "..."
   ]
  },
  {
   "cell_type": "markdown",
   "metadata": {},
   "source": [
    "### Plug\n",
    "\n",
    "* Involved 20 people across different teams over 1.5 years\n",
    "* Nominated at the 2016 OCTAS Awards\n",
    "http://crim.ca/fr/nouvelles/le-crim-finaliste-au-concours-des-octas-2016\n",
    "* Follow up with a longer and more technical presentation at the upcoming Docker Meetup!\n",
    "http://www.meetup.com/Docker-Montreal/events/230295967/"
   ]
  },
  {
   "cell_type": "markdown",
   "metadata": {},
   "source": [
    "### Demo\n",
    "\n",
    "* http://demo.vesta.crim.ca\n",
    "* Thank you!\n",
    "* Questions?\n",
    "* [marianne.corvellec@crim.ca](mailto:marianne.corvellec@crim.ca) will connect you with the right people :)"
   ]
  }
 ],
 "metadata": {
  "kernelspec": {
   "display_name": "Python 3",
   "language": "python",
   "name": "python3"
  },
  "language_info": {
   "codemirror_mode": {
    "name": "ipython",
    "version": 3
   },
   "file_extension": ".py",
   "mimetype": "text/x-python",
   "name": "python",
   "nbconvert_exporter": "python",
   "pygments_lexer": "ipython3",
   "version": "3.4.4"
  }
 },
 "nbformat": 4,
 "nbformat_minor": 0
}
